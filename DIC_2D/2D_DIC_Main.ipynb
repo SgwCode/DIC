{
 "cells": [
  {
   "cell_type": "code",
   "execution_count": 7,
   "id": "6672ff42-5072-41e7-88c2-44cfe3703c4f",
   "metadata": {},
   "outputs": [
    {
     "name": "stdout",
     "output_type": "stream",
     "text": [
      "[['trxy_s2_00.tif', 'trxy_s2_01.tif', 'trxy_s2_02.tif', 'trxy_s2_03.tif', 'trxy_s2_04.tif', 'trxy_s2_05.tif', 'trxy_s2_06.tif', 'trxy_s2_07.tif', 'trxy_s2_08.tif', 'trxy_s2_09.tif', 'trxy_s2_10.tif', 'trxy_s2_11.tif', 'trxy_s2_12.tif', 'trxy_s2_13.tif', 'trxy_s2_14.tif', 'trxy_s2_15.tif', 'trxy_s2_16.tif', 'trxy_s2_17.tif', 'trxy_s2_18.tif', 'trxy_s2_19.tif', 'trxy_s2_20.tif']]\n",
      "F:\\Personal_Project\\16-DIC\\Python\\2D_DIC\\Image_Source\\Sample1\\trxy_s2_00.tif\n",
      "[(512, 512, 3), (512, 512, 3), (512, 512, 3), (512, 512, 3), (512, 512, 3), (512, 512, 3), (512, 512, 3), (512, 512, 3), (512, 512, 3), (512, 512, 3), (512, 512, 3), (512, 512, 3), (512, 512, 3), (512, 512, 3), (512, 512, 3), (512, 512, 3), (512, 512, 3), (512, 512, 3), (512, 512, 3), (512, 512, 3), (512, 512, 3)]\n"
     ]
    }
   ],
   "source": [
    "import os\n",
    "import cv2\n",
    "\n",
    "file_dir = r\"F:\\Personal_Project\\16-DIC\\Python\\2D_DIC\\Image_Source\"\n",
    "file_list = []\n",
    "dir_name = ''\n",
    "selected_dir = 'Sample1'\n",
    "for root, dirs, files in os.walk(file_dir):\n",
    "    dir_name = root.split(\"\\\\\")[-1]\n",
    "    if dir_name == selected_dir:\n",
    "        file_list.append(files)\n",
    "print(file_list)\n",
    "Img_path = []\n",
    "for i in range(len(file_list[0])):\n",
    "    Img_path.append(file_dir + \"\\\\\" + selected_dir + \"\\\\\" + str(file_list[0][i]))\n",
    "print(Img_path[0])\n",
    "Img_size = []\n",
    "for i in Img_path:\n",
    "    i = i.replace(\"\\\\\", \"\\\\\\\\\")\n",
    "    Img_cv = cv2.imread(i)\n",
    "    # print(Img_cv)\n",
    "    Img_size.append(Img_cv.shape)\n",
    "print(Img_size)\n"
   ]
  },
  {
   "cell_type": "code",
   "execution_count": null,
   "id": "2257da89-bfb9-419e-8021-92d9e949db36",
   "metadata": {},
   "outputs": [],
   "source": []
  },
  {
   "cell_type": "code",
   "execution_count": null,
   "id": "022710b0-dd90-452b-b242-f5bda8f5595d",
   "metadata": {},
   "outputs": [],
   "source": []
  }
 ],
 "metadata": {
  "kernelspec": {
   "display_name": "Python 3 (ipykernel)",
   "language": "python",
   "name": "python3"
  },
  "language_info": {
   "codemirror_mode": {
    "name": "ipython",
    "version": 3
   },
   "file_extension": ".py",
   "mimetype": "text/x-python",
   "name": "python",
   "nbconvert_exporter": "python",
   "pygments_lexer": "ipython3",
   "version": "3.9.12"
  }
 },
 "nbformat": 4,
 "nbformat_minor": 5
}
